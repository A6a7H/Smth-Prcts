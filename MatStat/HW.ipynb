{
 "cells": [
  {
   "cell_type": "markdown",
   "metadata": {},
   "source": [
    "# EX 1"
   ]
  },
  {
   "cell_type": "code",
   "execution_count": 153,
   "metadata": {},
   "outputs": [],
   "source": [
    "import numpy as np\n",
    "import pandas as pd\n",
    "import seaborn as sns\n",
    "import scipy as sp\n",
    "import scipy.stats\n",
    "import matplotlib.figure as fig\n",
    "import matplotlib.pyplot as plt"
   ]
  },
  {
   "cell_type": "code",
   "execution_count": 62,
   "metadata": {},
   "outputs": [],
   "source": [
    "v = [np.random.choice(np.arange(-1,2), p=[0.4, 0.2, 0.4]) for _ in range(1000)]"
   ]
  },
  {
   "cell_type": "code",
   "execution_count": null,
   "metadata": {},
   "outputs": [],
   "source": [
    "# mean = sum(v) / 1000\n",
    "# arr = np.array(v)\n",
    "# np.var(arr)\n",
    "# s = (sum( [ (v[i] - mean)**2 for i in range(1000)] ) / 100)**0.5\n",
    "# s"
   ]
  },
  {
   "cell_type": "code",
   "execution_count": 168,
   "metadata": {},
   "outputs": [
    {
     "data": {
      "text/plain": [
       "<matplotlib.axes._subplots.AxesSubplot at 0x251c2232828>"
      ]
     },
     "execution_count": 168,
     "metadata": {},
     "output_type": "execute_result"
    },
    {
     "data": {
      "image/png": "[encoded data removed]",
      "text/plain": [
       "<Figure size 432x288 with 1 Axes>"
      ]
     },
     "metadata": {
      "needs_background": "light"
     },
     "output_type": "display_data"
    }
   ],
   "source": [
    "sns.distplot(v)"
   ]
  },
  {
   "cell_type": "code",
   "execution_count": 167,
   "metadata": {},
   "outputs": [
    {
     "data": {
      "text/plain": [
       "[-1, -1, 0, -1, 1, -1, -1, -1, 0, 0]"
      ]
     },
     "execution_count": 167,
     "metadata": {},
     "output_type": "execute_result"
    }
   ],
   "source": [
    "small = [np.random.choice(np.arange(-1,2), p=[0.4, 0.2, 0.4]) for _ in range(10)]\n",
    "small"
   ]
  },
  {
   "cell_type": "code",
   "execution_count": 77,
   "metadata": {},
   "outputs": [],
   "source": [
    "def mean_confidence_interval(data, confidence=0.95):\n",
    "    a = 1.0*np.array(data)\n",
    "    n = len(a)\n",
    "    m, se = np.mean(a), scipy.stats.sem(a)\n",
    "    h = se * sp.stats.t._ppf((1+confidence)/2., n-1)\n",
    "    return m, m-h, m+h"
   ]
  },
  {
   "cell_type": "code",
   "execution_count": 78,
   "metadata": {},
   "outputs": [
    {
     "data": {
      "text/plain": [
       "(0.1, -0.5263629556565124, 0.7263629556565123)"
      ]
     },
     "execution_count": 78,
     "metadata": {},
     "output_type": "execute_result"
    }
   ],
   "source": [
    "mean_confidence_interval(small)"
   ]
  },
  {
   "cell_type": "code",
   "execution_count": 103,
   "metadata": {},
   "outputs": [],
   "source": [
    "def try1000(ans, ln):\n",
    "    for i in range(1000):\n",
    "        small = [np.random.choice(np.arange(-1,2), p=[0.4, 0.2, 0.4]) for _ in range(ln)]\n",
    "        m, l, r = mean_confidence_interval(small)\n",
    "        if l <= 0 <= r :\n",
    "            ans.append(1)\n",
    "        else:\n",
    "            ans.append(0)\n",
    "    return sum(ans) / 1000 * 100"
   ]
  },
  {
   "cell_type": "code",
   "execution_count": 169,
   "metadata": {},
   "outputs": [],
   "source": [
    "ten = try1000([], 10)\n",
    "fifth = try1000([], 15)\n",
    "twenth = try1000([], 20)\n",
    "twenfifth = try1000([], 25)\n",
    "therth = try1000([], 30)"
   ]
  },
  {
   "cell_type": "code",
   "execution_count": 171,
   "metadata": {},
   "outputs": [
    {
     "name": "stdout",
     "output_type": "stream",
     "text": [
      "96.5 %\n",
      "93.6 %\n",
      "95.5 %\n",
      "96.0 %\n",
      "94.6 %\n"
     ]
    }
   ],
   "source": [
    "print('{:.1f}'.format(ten) + ' %')\n",
    "print('{:.1f}'.format(fifth) + ' %')\n",
    "print('{:.1f}'.format(twenth) + ' %')\n",
    "print('{:.1f}'.format(twenfifth) + ' %')\n",
    "print('{:.1f}'.format(therth) + ' %')"
   ]
  },
  {
   "cell_type": "code",
   "execution_count": 213,
   "metadata": {},
   "outputs": [
    {
     "data": {
      "text/plain": [
       "<BarContainer object of 5 artists>"
      ]
     },
     "execution_count": 213,
     "metadata": {},
     "output_type": "execute_result"
    },
    {
     "data": {
      "image/png": "[encoded data removed]",
      "text/plain": [
       "<Figure size 1100x550 with 1 Axes>"
      ]
     },
     "metadata": {
      "needs_background": "light"
     },
     "output_type": "display_data"
    }
   ],
   "source": [
    "fig = plt.figure(figsize=(10., 5.), dpi=110)\n",
    "plt.bar([10, 15, 20, 25, 30], [ten, fifth, twenth, twenfifth, therth], width=5, linewidth=100, alpha=1)"
   ]
  },
  {
   "cell_type": "markdown",
   "metadata": {},
   "source": [
    "# EX 2\n",
    "### Генерация всевдослучайных чисел степенным остаточным методом\n",
    "Назначаем начальное число z1 < 10000. Последующие числа получаем из соотношения z_i = ((z_{i-1}^{2.5})//100)%10000, div — целая часть от деления, mod — остаток от деления.\n",
    "Полученная последовательность укладывается в пределы от 0 до 1 так: x_i = z_i / 10000.\n"
   ]
  },
  {
   "cell_type": "code",
   "execution_count": 214,
   "metadata": {},
   "outputs": [],
   "source": [
    "import random\n",
    "def generate_ost_1(n):\n",
    "    z1 = random.randint(-100, 10000)\n",
    "    arr = [z1]\n",
    "    for i in range(n - 1):\n",
    "        arr.append(int(((arr[-1]**2.5) // 100) % 10000))\n",
    "    arr = [arr[i] / 10000 for i in range(len(arr))]\n",
    "    return arr"
   ]
  },
  {
   "cell_type": "code",
   "execution_count": 215,
   "metadata": {},
   "outputs": [
    {
     "data": {
      "text/plain": [
       "[0.8198, 0.1289, 0.653, 0.7435, 0.5311, 0.6101, 0.3851, 0.3092, 0.6168, 0.8645]"
      ]
     },
     "execution_count": 215,
     "metadata": {},
     "output_type": "execute_result"
    }
   ],
   "source": [
    "arr = generate_ost_1(100)\n",
    "arr[:10]"
   ]
  },
  {
   "cell_type": "code",
   "execution_count": null,
   "metadata": {},
   "outputs": [],
   "source": []
  }
 ],
 "metadata": {
  "kernelspec": {
   "display_name": "Python 3",
   "language": "python",
   "name": "python3"
  },
  "language_info": {
   "codemirror_mode": {
    "name": "ipython",
    "version": 3
   },
   "file_extension": ".py",
   "mimetype": "text/x-python",
   "name": "python",
   "nbconvert_exporter": "python",
   "pygments_lexer": "ipython3",
   "version": "3.5.1"
  }
 },
 "nbformat": 4,
 "nbformat_minor": 2
}
